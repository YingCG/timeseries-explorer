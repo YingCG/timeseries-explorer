{
 "cells": [
  {
   "cell_type": "markdown",
   "metadata": {},
   "source": [
    "Data Preprocessing"
   ]
  },
  {
   "cell_type": "code",
   "execution_count": 3,
   "metadata": {},
   "outputs": [
    {
     "data": {
      "text/html": [
       "<div>\n",
       "<style scoped>\n",
       "    .dataframe tbody tr th:only-of-type {\n",
       "        vertical-align: middle;\n",
       "    }\n",
       "\n",
       "    .dataframe tbody tr th {\n",
       "        vertical-align: top;\n",
       "    }\n",
       "\n",
       "    .dataframe thead th {\n",
       "        text-align: right;\n",
       "    }\n",
       "</style>\n",
       "<table border=\"1\" class=\"dataframe\">\n",
       "  <thead>\n",
       "    <tr style=\"text-align: right;\">\n",
       "      <th></th>\n",
       "      <th>Timestamp</th>\n",
       "      <th>UTC Offset</th>\n",
       "      <th>Multiple Gauge Rainfall Recency Alarm (on/off)</th>\n",
       "      <th>Quality</th>\n",
       "      <th>Rainfall (mm)</th>\n",
       "      <th>Quality.1</th>\n",
       "      <th>Rainfall (Accumulated) (mm)</th>\n",
       "      <th>Quality.2</th>\n",
       "    </tr>\n",
       "  </thead>\n",
       "  <tbody>\n",
       "    <tr>\n",
       "      <th>0</th>\n",
       "      <td>2022-08-18 14:20:00</td>\n",
       "      <td>12</td>\n",
       "      <td>NaN</td>\n",
       "      <td>No data available</td>\n",
       "      <td>NaN</td>\n",
       "      <td>No data available</td>\n",
       "      <td>0.0</td>\n",
       "      <td>Automated Process or Synthetic</td>\n",
       "    </tr>\n",
       "    <tr>\n",
       "      <th>1</th>\n",
       "      <td>2022-08-18 14:25:00</td>\n",
       "      <td>12</td>\n",
       "      <td>NaN</td>\n",
       "      <td>No data available</td>\n",
       "      <td>NaN</td>\n",
       "      <td>No data available</td>\n",
       "      <td>0.0</td>\n",
       "      <td>Automated Process or Synthetic</td>\n",
       "    </tr>\n",
       "    <tr>\n",
       "      <th>2</th>\n",
       "      <td>2022-08-18 14:30:00</td>\n",
       "      <td>12</td>\n",
       "      <td>NaN</td>\n",
       "      <td>No data available</td>\n",
       "      <td>NaN</td>\n",
       "      <td>No data available</td>\n",
       "      <td>0.0</td>\n",
       "      <td>Automated Process or Synthetic</td>\n",
       "    </tr>\n",
       "    <tr>\n",
       "      <th>3</th>\n",
       "      <td>2022-08-18 14:35:00</td>\n",
       "      <td>12</td>\n",
       "      <td>NaN</td>\n",
       "      <td>No data available</td>\n",
       "      <td>2.5</td>\n",
       "      <td>No quality or non-verified</td>\n",
       "      <td>2.5</td>\n",
       "      <td>Automated Process or Synthetic</td>\n",
       "    </tr>\n",
       "    <tr>\n",
       "      <th>4</th>\n",
       "      <td>2022-08-18 14:40:00</td>\n",
       "      <td>12</td>\n",
       "      <td>NaN</td>\n",
       "      <td>No data available</td>\n",
       "      <td>NaN</td>\n",
       "      <td>No data available</td>\n",
       "      <td>2.5</td>\n",
       "      <td>Automated Process or Synthetic</td>\n",
       "    </tr>\n",
       "  </tbody>\n",
       "</table>\n",
       "</div>"
      ],
      "text/plain": [
       "            Timestamp  UTC Offset   \n",
       "0 2022-08-18 14:20:00          12  \\\n",
       "1 2022-08-18 14:25:00          12   \n",
       "2 2022-08-18 14:30:00          12   \n",
       "3 2022-08-18 14:35:00          12   \n",
       "4 2022-08-18 14:40:00          12   \n",
       "\n",
       "   Multiple Gauge Rainfall Recency Alarm (on/off)            Quality   \n",
       "0                                             NaN  No data available  \\\n",
       "1                                             NaN  No data available   \n",
       "2                                             NaN  No data available   \n",
       "3                                             NaN  No data available   \n",
       "4                                             NaN  No data available   \n",
       "\n",
       "   Rainfall (mm)                   Quality.1  Rainfall (Accumulated) (mm)   \n",
       "0            NaN           No data available                          0.0  \\\n",
       "1            NaN           No data available                          0.0   \n",
       "2            NaN           No data available                          0.0   \n",
       "3            2.5  No quality or non-verified                          2.5   \n",
       "4            NaN           No data available                          2.5   \n",
       "\n",
       "                        Quality.2  \n",
       "0  Automated Process or Synthetic  \n",
       "1  Automated Process or Synthetic  \n",
       "2  Automated Process or Synthetic  \n",
       "3  Automated Process or Synthetic  \n",
       "4  Automated Process or Synthetic  "
      ]
     },
     "execution_count": 3,
     "metadata": {},
     "output_type": "execute_result"
    }
   ],
   "source": [
    "import pandas as pd\n",
    "\n",
    "rain = pd.read_csv('./data/ACC - Rain -Albert Park Acc rainfall_20220818-20230818.csv', parse_dates=['Timestamp'])\n",
    "rain.head()"
   ]
  },
  {
   "cell_type": "code",
   "execution_count": 4,
   "metadata": {},
   "outputs": [
    {
     "data": {
      "text/html": [
       "<div>\n",
       "<style scoped>\n",
       "    .dataframe tbody tr th:only-of-type {\n",
       "        vertical-align: middle;\n",
       "    }\n",
       "\n",
       "    .dataframe tbody tr th {\n",
       "        vertical-align: top;\n",
       "    }\n",
       "\n",
       "    .dataframe thead th {\n",
       "        text-align: right;\n",
       "    }\n",
       "</style>\n",
       "<table border=\"1\" class=\"dataframe\">\n",
       "  <thead>\n",
       "    <tr style=\"text-align: right;\">\n",
       "      <th></th>\n",
       "      <th>Timestamp</th>\n",
       "      <th>UTC Offset</th>\n",
       "      <th>Soil Moisture Content (%V/V)</th>\n",
       "      <th>Quality</th>\n",
       "    </tr>\n",
       "  </thead>\n",
       "  <tbody>\n",
       "    <tr>\n",
       "      <th>0</th>\n",
       "      <td>2022-08-18 14:25:00</td>\n",
       "      <td>12</td>\n",
       "      <td>NaN</td>\n",
       "      <td>No data available</td>\n",
       "    </tr>\n",
       "    <tr>\n",
       "      <th>1</th>\n",
       "      <td>2022-08-18 14:30:00</td>\n",
       "      <td>12</td>\n",
       "      <td>52.1</td>\n",
       "      <td>No quality or non-verified</td>\n",
       "    </tr>\n",
       "    <tr>\n",
       "      <th>2</th>\n",
       "      <td>2022-08-18 14:35:00</td>\n",
       "      <td>12</td>\n",
       "      <td>NaN</td>\n",
       "      <td>No data available</td>\n",
       "    </tr>\n",
       "    <tr>\n",
       "      <th>3</th>\n",
       "      <td>2022-08-18 14:40:00</td>\n",
       "      <td>12</td>\n",
       "      <td>NaN</td>\n",
       "      <td>No data available</td>\n",
       "    </tr>\n",
       "    <tr>\n",
       "      <th>4</th>\n",
       "      <td>2022-08-18 14:45:00</td>\n",
       "      <td>12</td>\n",
       "      <td>52.1</td>\n",
       "      <td>No quality or non-verified</td>\n",
       "    </tr>\n",
       "  </tbody>\n",
       "</table>\n",
       "</div>"
      ],
      "text/plain": [
       "            Timestamp  UTC Offset  Soil Moisture Content (%V/V)   \n",
       "0 2022-08-18 14:25:00          12                           NaN  \\\n",
       "1 2022-08-18 14:30:00          12                          52.1   \n",
       "2 2022-08-18 14:35:00          12                           NaN   \n",
       "3 2022-08-18 14:40:00          12                           NaN   \n",
       "4 2022-08-18 14:45:00          12                          52.1   \n",
       "\n",
       "                      Quality  \n",
       "0           No data available  \n",
       "1  No quality or non-verified  \n",
       "2           No data available  \n",
       "3           No data available  \n",
       "4  No quality or non-verified  "
      ]
     },
     "execution_count": 4,
     "metadata": {},
     "output_type": "execute_result"
    }
   ],
   "source": [
    "moist = pd.read_csv('./data/ACC - Soil Moisture - Mt Albert Grammar Rain_20220818-20230818_5mins.csv', parse_dates=['Timestamp'])\n",
    "moist.head()"
   ]
  },
  {
   "cell_type": "code",
   "execution_count": 5,
   "metadata": {},
   "outputs": [
    {
     "data": {
      "text/html": [
       "<div>\n",
       "<style scoped>\n",
       "    .dataframe tbody tr th:only-of-type {\n",
       "        vertical-align: middle;\n",
       "    }\n",
       "\n",
       "    .dataframe tbody tr th {\n",
       "        vertical-align: top;\n",
       "    }\n",
       "\n",
       "    .dataframe thead th {\n",
       "        text-align: right;\n",
       "    }\n",
       "</style>\n",
       "<table border=\"1\" class=\"dataframe\">\n",
       "  <thead>\n",
       "    <tr style=\"text-align: right;\">\n",
       "      <th></th>\n",
       "      <th>Timestamp</th>\n",
       "      <th>UTC Offset_x</th>\n",
       "      <th>Multiple Gauge Rainfall Recency Alarm (on/off)</th>\n",
       "      <th>Quality_x</th>\n",
       "      <th>Rainfall (mm)</th>\n",
       "      <th>Quality.1</th>\n",
       "      <th>Rainfall (Accumulated) (mm)</th>\n",
       "      <th>Quality.2</th>\n",
       "      <th>UTC Offset_y</th>\n",
       "      <th>Soil Moisture Content (%V/V)</th>\n",
       "      <th>Quality_y</th>\n",
       "    </tr>\n",
       "  </thead>\n",
       "  <tbody>\n",
       "    <tr>\n",
       "      <th>0</th>\n",
       "      <td>2022-08-18 14:25:00</td>\n",
       "      <td>12</td>\n",
       "      <td>NaN</td>\n",
       "      <td>No data available</td>\n",
       "      <td>NaN</td>\n",
       "      <td>No data available</td>\n",
       "      <td>0.0</td>\n",
       "      <td>Automated Process or Synthetic</td>\n",
       "      <td>12</td>\n",
       "      <td>NaN</td>\n",
       "      <td>No data available</td>\n",
       "    </tr>\n",
       "    <tr>\n",
       "      <th>1</th>\n",
       "      <td>2022-08-18 14:30:00</td>\n",
       "      <td>12</td>\n",
       "      <td>NaN</td>\n",
       "      <td>No data available</td>\n",
       "      <td>NaN</td>\n",
       "      <td>No data available</td>\n",
       "      <td>0.0</td>\n",
       "      <td>Automated Process or Synthetic</td>\n",
       "      <td>12</td>\n",
       "      <td>52.1</td>\n",
       "      <td>No quality or non-verified</td>\n",
       "    </tr>\n",
       "    <tr>\n",
       "      <th>2</th>\n",
       "      <td>2022-08-18 14:35:00</td>\n",
       "      <td>12</td>\n",
       "      <td>NaN</td>\n",
       "      <td>No data available</td>\n",
       "      <td>2.5</td>\n",
       "      <td>No quality or non-verified</td>\n",
       "      <td>2.5</td>\n",
       "      <td>Automated Process or Synthetic</td>\n",
       "      <td>12</td>\n",
       "      <td>NaN</td>\n",
       "      <td>No data available</td>\n",
       "    </tr>\n",
       "    <tr>\n",
       "      <th>3</th>\n",
       "      <td>2022-08-18 14:40:00</td>\n",
       "      <td>12</td>\n",
       "      <td>NaN</td>\n",
       "      <td>No data available</td>\n",
       "      <td>NaN</td>\n",
       "      <td>No data available</td>\n",
       "      <td>2.5</td>\n",
       "      <td>Automated Process or Synthetic</td>\n",
       "      <td>12</td>\n",
       "      <td>NaN</td>\n",
       "      <td>No data available</td>\n",
       "    </tr>\n",
       "    <tr>\n",
       "      <th>4</th>\n",
       "      <td>2022-08-18 14:45:00</td>\n",
       "      <td>12</td>\n",
       "      <td>NaN</td>\n",
       "      <td>No data available</td>\n",
       "      <td>NaN</td>\n",
       "      <td>No data available</td>\n",
       "      <td>2.5</td>\n",
       "      <td>Automated Process or Synthetic</td>\n",
       "      <td>12</td>\n",
       "      <td>52.1</td>\n",
       "      <td>No quality or non-verified</td>\n",
       "    </tr>\n",
       "  </tbody>\n",
       "</table>\n",
       "</div>"
      ],
      "text/plain": [
       "            Timestamp  UTC Offset_x   \n",
       "0 2022-08-18 14:25:00            12  \\\n",
       "1 2022-08-18 14:30:00            12   \n",
       "2 2022-08-18 14:35:00            12   \n",
       "3 2022-08-18 14:40:00            12   \n",
       "4 2022-08-18 14:45:00            12   \n",
       "\n",
       "   Multiple Gauge Rainfall Recency Alarm (on/off)          Quality_x   \n",
       "0                                             NaN  No data available  \\\n",
       "1                                             NaN  No data available   \n",
       "2                                             NaN  No data available   \n",
       "3                                             NaN  No data available   \n",
       "4                                             NaN  No data available   \n",
       "\n",
       "   Rainfall (mm)                   Quality.1  Rainfall (Accumulated) (mm)   \n",
       "0            NaN           No data available                          0.0  \\\n",
       "1            NaN           No data available                          0.0   \n",
       "2            2.5  No quality or non-verified                          2.5   \n",
       "3            NaN           No data available                          2.5   \n",
       "4            NaN           No data available                          2.5   \n",
       "\n",
       "                        Quality.2  UTC Offset_y  Soil Moisture Content (%V/V)   \n",
       "0  Automated Process or Synthetic            12                           NaN  \\\n",
       "1  Automated Process or Synthetic            12                          52.1   \n",
       "2  Automated Process or Synthetic            12                           NaN   \n",
       "3  Automated Process or Synthetic            12                           NaN   \n",
       "4  Automated Process or Synthetic            12                          52.1   \n",
       "\n",
       "                    Quality_y  \n",
       "0           No data available  \n",
       "1  No quality or non-verified  \n",
       "2           No data available  \n",
       "3           No data available  \n",
       "4  No quality or non-verified  "
      ]
     },
     "execution_count": 5,
     "metadata": {},
     "output_type": "execute_result"
    }
   ],
   "source": [
    "mtalbert = rain.merge(moist, on='Timestamp')\n",
    "mtalbert.head()"
   ]
  },
  {
   "cell_type": "code",
   "execution_count": 6,
   "metadata": {},
   "outputs": [
    {
     "data": {
      "text/html": [
       "<div>\n",
       "<style scoped>\n",
       "    .dataframe tbody tr th:only-of-type {\n",
       "        vertical-align: middle;\n",
       "    }\n",
       "\n",
       "    .dataframe tbody tr th {\n",
       "        vertical-align: top;\n",
       "    }\n",
       "\n",
       "    .dataframe thead th {\n",
       "        text-align: right;\n",
       "    }\n",
       "</style>\n",
       "<table border=\"1\" class=\"dataframe\">\n",
       "  <thead>\n",
       "    <tr style=\"text-align: right;\">\n",
       "      <th></th>\n",
       "      <th>Timestamp</th>\n",
       "      <th>Rainfall (mm)</th>\n",
       "      <th>Rainfall (Accumulated) (mm)</th>\n",
       "      <th>Soil Moisture Content (%V/V)</th>\n",
       "    </tr>\n",
       "  </thead>\n",
       "  <tbody>\n",
       "    <tr>\n",
       "      <th>0</th>\n",
       "      <td>2022-08-18 14:25:00</td>\n",
       "      <td>NaN</td>\n",
       "      <td>0.0</td>\n",
       "      <td>NaN</td>\n",
       "    </tr>\n",
       "    <tr>\n",
       "      <th>1</th>\n",
       "      <td>2022-08-18 14:30:00</td>\n",
       "      <td>NaN</td>\n",
       "      <td>0.0</td>\n",
       "      <td>52.1</td>\n",
       "    </tr>\n",
       "    <tr>\n",
       "      <th>2</th>\n",
       "      <td>2022-08-18 14:35:00</td>\n",
       "      <td>2.5</td>\n",
       "      <td>2.5</td>\n",
       "      <td>NaN</td>\n",
       "    </tr>\n",
       "    <tr>\n",
       "      <th>3</th>\n",
       "      <td>2022-08-18 14:40:00</td>\n",
       "      <td>NaN</td>\n",
       "      <td>2.5</td>\n",
       "      <td>NaN</td>\n",
       "    </tr>\n",
       "    <tr>\n",
       "      <th>4</th>\n",
       "      <td>2022-08-18 14:45:00</td>\n",
       "      <td>NaN</td>\n",
       "      <td>2.5</td>\n",
       "      <td>52.1</td>\n",
       "    </tr>\n",
       "  </tbody>\n",
       "</table>\n",
       "</div>"
      ],
      "text/plain": [
       "            Timestamp  Rainfall (mm)  Rainfall (Accumulated) (mm)   \n",
       "0 2022-08-18 14:25:00            NaN                          0.0  \\\n",
       "1 2022-08-18 14:30:00            NaN                          0.0   \n",
       "2 2022-08-18 14:35:00            2.5                          2.5   \n",
       "3 2022-08-18 14:40:00            NaN                          2.5   \n",
       "4 2022-08-18 14:45:00            NaN                          2.5   \n",
       "\n",
       "   Soil Moisture Content (%V/V)  \n",
       "0                           NaN  \n",
       "1                          52.1  \n",
       "2                           NaN  \n",
       "3                           NaN  \n",
       "4                          52.1  "
      ]
     },
     "execution_count": 6,
     "metadata": {},
     "output_type": "execute_result"
    }
   ],
   "source": [
    "mtalbert.drop(columns=['UTC Offset_x', 'Multiple Gauge Rainfall Recency Alarm (on/off)','Quality_x', 'Quality.1', 'Quality.2', 'UTC Offset_y', 'Quality_y'], inplace=True)\n",
    "mtalbert.head()"
   ]
  },
  {
   "cell_type": "code",
   "execution_count": 7,
   "metadata": {},
   "outputs": [],
   "source": [
    "# mtalbert.to_csv('./data/mtalbert.csv', index=False)"
   ]
  },
  {
   "cell_type": "code",
   "execution_count": 8,
   "metadata": {},
   "outputs": [
    {
     "data": {
      "text/html": [
       "<div>\n",
       "<style scoped>\n",
       "    .dataframe tbody tr th:only-of-type {\n",
       "        vertical-align: middle;\n",
       "    }\n",
       "\n",
       "    .dataframe tbody tr th {\n",
       "        vertical-align: top;\n",
       "    }\n",
       "\n",
       "    .dataframe thead th {\n",
       "        text-align: right;\n",
       "    }\n",
       "</style>\n",
       "<table border=\"1\" class=\"dataframe\">\n",
       "  <thead>\n",
       "    <tr style=\"text-align: right;\">\n",
       "      <th></th>\n",
       "      <th>Timestamp</th>\n",
       "      <th>Rainfall (mm)</th>\n",
       "      <th>Rainfall (Accumulated) (mm)</th>\n",
       "      <th>Soil Moisture Content (%V/V)</th>\n",
       "    </tr>\n",
       "  </thead>\n",
       "  <tbody>\n",
       "    <tr>\n",
       "      <th>0</th>\n",
       "      <td>2022-08-18 14:25:00</td>\n",
       "      <td>NaN</td>\n",
       "      <td>0.0</td>\n",
       "      <td>NaN</td>\n",
       "    </tr>\n",
       "    <tr>\n",
       "      <th>1</th>\n",
       "      <td>2022-08-18 14:30:00</td>\n",
       "      <td>NaN</td>\n",
       "      <td>0.0</td>\n",
       "      <td>52.1</td>\n",
       "    </tr>\n",
       "    <tr>\n",
       "      <th>2</th>\n",
       "      <td>2022-08-18 14:35:00</td>\n",
       "      <td>2.5</td>\n",
       "      <td>2.5</td>\n",
       "      <td>NaN</td>\n",
       "    </tr>\n",
       "    <tr>\n",
       "      <th>3</th>\n",
       "      <td>2022-08-18 14:40:00</td>\n",
       "      <td>NaN</td>\n",
       "      <td>2.5</td>\n",
       "      <td>NaN</td>\n",
       "    </tr>\n",
       "    <tr>\n",
       "      <th>4</th>\n",
       "      <td>2022-08-18 14:45:00</td>\n",
       "      <td>NaN</td>\n",
       "      <td>2.5</td>\n",
       "      <td>52.1</td>\n",
       "    </tr>\n",
       "  </tbody>\n",
       "</table>\n",
       "</div>"
      ],
      "text/plain": [
       "            Timestamp  Rainfall (mm)  Rainfall (Accumulated) (mm)   \n",
       "0 2022-08-18 14:25:00            NaN                          0.0  \\\n",
       "1 2022-08-18 14:30:00            NaN                          0.0   \n",
       "2 2022-08-18 14:35:00            2.5                          2.5   \n",
       "3 2022-08-18 14:40:00            NaN                          2.5   \n",
       "4 2022-08-18 14:45:00            NaN                          2.5   \n",
       "\n",
       "   Soil Moisture Content (%V/V)  \n",
       "0                           NaN  \n",
       "1                          52.1  \n",
       "2                           NaN  \n",
       "3                           NaN  \n",
       "4                          52.1  "
      ]
     },
     "execution_count": 8,
     "metadata": {},
     "output_type": "execute_result"
    }
   ],
   "source": [
    "import numpy as np\n",
    "import matplotlib.pyplot as plt\n",
    "import pandas as pd\n",
    "\n",
    "mtalbert = pd.read_csv('./data/mtalbert.csv', parse_dates=['Timestamp'])\n",
    "mtalbert.head()"
   ]
  },
  {
   "cell_type": "markdown",
   "metadata": {},
   "source": [
    "Taking care of missing data"
   ]
  },
  {
   "cell_type": "code",
   "execution_count": 9,
   "metadata": {},
   "outputs": [
    {
     "name": "stdout",
     "output_type": "stream",
     "text": [
      "<class 'pandas.core.frame.DataFrame'>\n",
      "RangeIndex: 105154 entries, 0 to 105153\n",
      "Data columns (total 4 columns):\n",
      " #   Column                        Non-Null Count   Dtype         \n",
      "---  ------                        --------------   -----         \n",
      " 0   Timestamp                     105154 non-null  datetime64[ns]\n",
      " 1   Rainfall (mm)                 2851 non-null    float64       \n",
      " 2   Rainfall (Accumulated) (mm)   105154 non-null  float64       \n",
      " 3   Soil Moisture Content (%V/V)  34777 non-null   float64       \n",
      "dtypes: datetime64[ns](1), float64(3)\n",
      "memory usage: 3.2 MB\n"
     ]
    }
   ],
   "source": [
    "mtalbert.info()"
   ]
  },
  {
   "cell_type": "code",
   "execution_count": 10,
   "metadata": {},
   "outputs": [],
   "source": [
    "mtalbert['Timestamp'] = (pd.to_datetime(mtalbert['Timestamp']).astype('int64') // 10**9).astype(int)\n"
   ]
  },
  {
   "cell_type": "code",
   "execution_count": 11,
   "metadata": {},
   "outputs": [
    {
     "data": {
      "text/plain": [
       "Timestamp                       0\n",
       "Rainfall (mm)                   0\n",
       "Rainfall (Accumulated) (mm)     0\n",
       "Soil Moisture Content (%V/V)    1\n",
       "dtype: int64"
      ]
     },
     "execution_count": 11,
     "metadata": {},
     "output_type": "execute_result"
    }
   ],
   "source": [
    "mtalbert['Rainfall (mm)'] = mtalbert['Rainfall (mm)'].fillna(0)\n",
    "mtalbert['Soil Moisture Content (%V/V)'] = mtalbert['Soil Moisture Content (%V/V)'].interpolate(method='linear')\n",
    "mtalbert.isna().sum()"
   ]
  },
  {
   "cell_type": "code",
   "execution_count": 12,
   "metadata": {},
   "outputs": [
    {
     "data": {
      "text/plain": [
       "Timestamp                       0\n",
       "Rainfall (mm)                   0\n",
       "Rainfall (Accumulated) (mm)     0\n",
       "Soil Moisture Content (%V/V)    0\n",
       "dtype: int64"
      ]
     },
     "execution_count": 12,
     "metadata": {},
     "output_type": "execute_result"
    }
   ],
   "source": [
    "mtalbert['Soil Moisture Content (%V/V)'].fillna(method='bfill', inplace=True)\n",
    "mtalbert.isna().sum()"
   ]
  },
  {
   "cell_type": "code",
   "execution_count": 13,
   "metadata": {},
   "outputs": [
    {
     "data": {
      "text/html": [
       "<div>\n",
       "<style scoped>\n",
       "    .dataframe tbody tr th:only-of-type {\n",
       "        vertical-align: middle;\n",
       "    }\n",
       "\n",
       "    .dataframe tbody tr th {\n",
       "        vertical-align: top;\n",
       "    }\n",
       "\n",
       "    .dataframe thead th {\n",
       "        text-align: right;\n",
       "    }\n",
       "</style>\n",
       "<table border=\"1\" class=\"dataframe\">\n",
       "  <thead>\n",
       "    <tr style=\"text-align: right;\">\n",
       "      <th></th>\n",
       "      <th>Timestamp</th>\n",
       "      <th>Rainfall (mm)</th>\n",
       "      <th>Rainfall (Accumulated) (mm)</th>\n",
       "      <th>Soil Moisture Content (%V/V)</th>\n",
       "    </tr>\n",
       "  </thead>\n",
       "  <tbody>\n",
       "    <tr>\n",
       "      <th>0</th>\n",
       "      <td>1660832700</td>\n",
       "      <td>0.0</td>\n",
       "      <td>0.0</td>\n",
       "      <td>52.1</td>\n",
       "    </tr>\n",
       "    <tr>\n",
       "      <th>1</th>\n",
       "      <td>1660833000</td>\n",
       "      <td>0.0</td>\n",
       "      <td>0.0</td>\n",
       "      <td>52.1</td>\n",
       "    </tr>\n",
       "    <tr>\n",
       "      <th>2</th>\n",
       "      <td>1660833300</td>\n",
       "      <td>2.5</td>\n",
       "      <td>2.5</td>\n",
       "      <td>52.1</td>\n",
       "    </tr>\n",
       "    <tr>\n",
       "      <th>3</th>\n",
       "      <td>1660833600</td>\n",
       "      <td>0.0</td>\n",
       "      <td>2.5</td>\n",
       "      <td>52.1</td>\n",
       "    </tr>\n",
       "    <tr>\n",
       "      <th>4</th>\n",
       "      <td>1660833900</td>\n",
       "      <td>0.0</td>\n",
       "      <td>2.5</td>\n",
       "      <td>52.1</td>\n",
       "    </tr>\n",
       "  </tbody>\n",
       "</table>\n",
       "</div>"
      ],
      "text/plain": [
       "    Timestamp  Rainfall (mm)  Rainfall (Accumulated) (mm)   \n",
       "0  1660832700            0.0                          0.0  \\\n",
       "1  1660833000            0.0                          0.0   \n",
       "2  1660833300            2.5                          2.5   \n",
       "3  1660833600            0.0                          2.5   \n",
       "4  1660833900            0.0                          2.5   \n",
       "\n",
       "   Soil Moisture Content (%V/V)  \n",
       "0                          52.1  \n",
       "1                          52.1  \n",
       "2                          52.1  \n",
       "3                          52.1  \n",
       "4                          52.1  "
      ]
     },
     "execution_count": 13,
     "metadata": {},
     "output_type": "execute_result"
    }
   ],
   "source": [
    "mtalbert.head()"
   ]
  },
  {
   "cell_type": "code",
   "execution_count": 14,
   "metadata": {},
   "outputs": [
    {
     "name": "stdout",
     "output_type": "stream",
     "text": [
      "[[1.6608327e+09 0.0000000e+00 0.0000000e+00]\n",
      " [1.6608330e+09 0.0000000e+00 0.0000000e+00]\n",
      " [1.6608333e+09 2.5000000e+00 2.5000000e+00]\n",
      " ...\n",
      " [1.6923678e+09 0.0000000e+00 4.0500000e+01]\n",
      " [1.6923681e+09 0.0000000e+00 4.0500000e+01]\n",
      " [1.6923684e+09 0.0000000e+00 4.0500000e+01]]\n"
     ]
    }
   ],
   "source": [
    "X = mtalbert.iloc[:, :-1].values\n",
    "print(X)"
   ]
  },
  {
   "cell_type": "code",
   "execution_count": 15,
   "metadata": {},
   "outputs": [
    {
     "name": "stdout",
     "output_type": "stream",
     "text": [
      "[52.1   52.1   52.1   ... 49.647 49.647 49.647]\n"
     ]
    }
   ],
   "source": [
    "y = mtalbert.iloc[:, -1].values\n",
    "print(y)"
   ]
  },
  {
   "cell_type": "markdown",
   "metadata": {},
   "source": [
    "Training the Decision Tree Regression model on the whole dataset"
   ]
  },
  {
   "cell_type": "code",
   "execution_count": 16,
   "metadata": {},
   "outputs": [
    {
     "data": {
      "text/html": [
       "<style>#sk-container-id-1 {color: black;}#sk-container-id-1 pre{padding: 0;}#sk-container-id-1 div.sk-toggleable {background-color: white;}#sk-container-id-1 label.sk-toggleable__label {cursor: pointer;display: block;width: 100%;margin-bottom: 0;padding: 0.3em;box-sizing: border-box;text-align: center;}#sk-container-id-1 label.sk-toggleable__label-arrow:before {content: \"▸\";float: left;margin-right: 0.25em;color: #696969;}#sk-container-id-1 label.sk-toggleable__label-arrow:hover:before {color: black;}#sk-container-id-1 div.sk-estimator:hover label.sk-toggleable__label-arrow:before {color: black;}#sk-container-id-1 div.sk-toggleable__content {max-height: 0;max-width: 0;overflow: hidden;text-align: left;background-color: #f0f8ff;}#sk-container-id-1 div.sk-toggleable__content pre {margin: 0.2em;color: black;border-radius: 0.25em;background-color: #f0f8ff;}#sk-container-id-1 input.sk-toggleable__control:checked~div.sk-toggleable__content {max-height: 200px;max-width: 100%;overflow: auto;}#sk-container-id-1 input.sk-toggleable__control:checked~label.sk-toggleable__label-arrow:before {content: \"▾\";}#sk-container-id-1 div.sk-estimator input.sk-toggleable__control:checked~label.sk-toggleable__label {background-color: #d4ebff;}#sk-container-id-1 div.sk-label input.sk-toggleable__control:checked~label.sk-toggleable__label {background-color: #d4ebff;}#sk-container-id-1 input.sk-hidden--visually {border: 0;clip: rect(1px 1px 1px 1px);clip: rect(1px, 1px, 1px, 1px);height: 1px;margin: -1px;overflow: hidden;padding: 0;position: absolute;width: 1px;}#sk-container-id-1 div.sk-estimator {font-family: monospace;background-color: #f0f8ff;border: 1px dotted black;border-radius: 0.25em;box-sizing: border-box;margin-bottom: 0.5em;}#sk-container-id-1 div.sk-estimator:hover {background-color: #d4ebff;}#sk-container-id-1 div.sk-parallel-item::after {content: \"\";width: 100%;border-bottom: 1px solid gray;flex-grow: 1;}#sk-container-id-1 div.sk-label:hover label.sk-toggleable__label {background-color: #d4ebff;}#sk-container-id-1 div.sk-serial::before {content: \"\";position: absolute;border-left: 1px solid gray;box-sizing: border-box;top: 0;bottom: 0;left: 50%;z-index: 0;}#sk-container-id-1 div.sk-serial {display: flex;flex-direction: column;align-items: center;background-color: white;padding-right: 0.2em;padding-left: 0.2em;position: relative;}#sk-container-id-1 div.sk-item {position: relative;z-index: 1;}#sk-container-id-1 div.sk-parallel {display: flex;align-items: stretch;justify-content: center;background-color: white;position: relative;}#sk-container-id-1 div.sk-item::before, #sk-container-id-1 div.sk-parallel-item::before {content: \"\";position: absolute;border-left: 1px solid gray;box-sizing: border-box;top: 0;bottom: 0;left: 50%;z-index: -1;}#sk-container-id-1 div.sk-parallel-item {display: flex;flex-direction: column;z-index: 1;position: relative;background-color: white;}#sk-container-id-1 div.sk-parallel-item:first-child::after {align-self: flex-end;width: 50%;}#sk-container-id-1 div.sk-parallel-item:last-child::after {align-self: flex-start;width: 50%;}#sk-container-id-1 div.sk-parallel-item:only-child::after {width: 0;}#sk-container-id-1 div.sk-dashed-wrapped {border: 1px dashed gray;margin: 0 0.4em 0.5em 0.4em;box-sizing: border-box;padding-bottom: 0.4em;background-color: white;}#sk-container-id-1 div.sk-label label {font-family: monospace;font-weight: bold;display: inline-block;line-height: 1.2em;}#sk-container-id-1 div.sk-label-container {text-align: center;}#sk-container-id-1 div.sk-container {/* jupyter's `normalize.less` sets `[hidden] { display: none; }` but bootstrap.min.css set `[hidden] { display: none !important; }` so we also need the `!important` here to be able to override the default hidden behavior on the sphinx rendered scikit-learn.org. See: https://github.com/scikit-learn/scikit-learn/issues/21755 */display: inline-block !important;position: relative;}#sk-container-id-1 div.sk-text-repr-fallback {display: none;}</style><div id=\"sk-container-id-1\" class=\"sk-top-container\"><div class=\"sk-text-repr-fallback\"><pre>DecisionTreeRegressor(random_state=0)</pre><b>In a Jupyter environment, please rerun this cell to show the HTML representation or trust the notebook. <br />On GitHub, the HTML representation is unable to render, please try loading this page with nbviewer.org.</b></div><div class=\"sk-container\" hidden><div class=\"sk-item\"><div class=\"sk-estimator sk-toggleable\"><input class=\"sk-toggleable__control sk-hidden--visually\" id=\"sk-estimator-id-1\" type=\"checkbox\" checked><label for=\"sk-estimator-id-1\" class=\"sk-toggleable__label sk-toggleable__label-arrow\">DecisionTreeRegressor</label><div class=\"sk-toggleable__content\"><pre>DecisionTreeRegressor(random_state=0)</pre></div></div></div></div></div>"
      ],
      "text/plain": [
       "DecisionTreeRegressor(random_state=0)"
      ]
     },
     "execution_count": 16,
     "metadata": {},
     "output_type": "execute_result"
    }
   ],
   "source": [
    "from sklearn.tree import DecisionTreeRegressor\n",
    "regressor = DecisionTreeRegressor(random_state=0)\n",
    "regressor.fit(X, y)"
   ]
  },
  {
   "cell_type": "markdown",
   "metadata": {},
   "source": [
    "Predicting a new result"
   ]
  },
  {
   "cell_type": "code",
   "execution_count": 17,
   "metadata": {},
   "outputs": [
    {
     "name": "stdout",
     "output_type": "stream",
     "text": [
      "[52.1]\n"
     ]
    }
   ],
   "source": [
    "# prediction_input = [[1.5, 1.5, 0.0]]\n",
    "# prediction_input = [[pd.to_datetime('2022-08-18 14:25:00').timestamp(), 1.5, 0.0]]\n",
    "prediction_input = np.array([[1.5, 0.0, 0.0]])\n",
    "\n",
    "# Use the trained regressor for prediction\n",
    "predicted_value = regressor.predict(prediction_input)\n",
    "\n",
    "print(predicted_value)"
   ]
  },
  {
   "cell_type": "markdown",
   "metadata": {},
   "source": [
    "Visualsing the Decision Tree Regression results"
   ]
  },
  {
   "cell_type": "code",
   "execution_count": 19,
   "metadata": {},
   "outputs": [
    {
     "data": {
      "image/png": "[encoded data removed]",
      "text/plain": [
       "<Figure size 640x480 with 1 Axes>"
      ]
     },
     "metadata": {},
     "output_type": "display_data"
    }
   ],
   "source": [
    "X_grid = np.linspace(min(X[:, 0]), max(X[:, 0]), 10).reshape(-1, 1)\n",
    "# Create a synthetic dataset for prediction (use placeholder values)\n",
    "prediction_input = np.column_stack([X_grid, np.ones_like(X_grid) * 1.5, np.zeros_like(X_grid)])\n",
    "\n",
    "plt.plot(X[:, 0], y, color='red', marker='o', linestyle='None')\n",
    "plt.plot(X_grid, regressor.predict(prediction_input), color='blue')\n",
    "plt.title('Decision Tree Regression')\n",
    "plt.xlabel('Timestamp')\n",
    "plt.ylabel('Soil Moisture Content (%V/V)')\n",
    "plt.show()"
   ]
  }
 ],
 "metadata": {
  "kernelspec": {
   "display_name": "Python 3",
   "language": "python",
   "name": "python3"
  },
  "language_info": {
   "codemirror_mode": {
    "name": "ipython",
    "version": 3
   },
   "file_extension": ".py",
   "mimetype": "text/x-python",
   "name": "python",
   "nbconvert_exporter": "python",
   "pygments_lexer": "ipython3",
   "version": "3.10.6"
  },
  "orig_nbformat": 4
 },
 "nbformat": 4,
 "nbformat_minor": 2
}
